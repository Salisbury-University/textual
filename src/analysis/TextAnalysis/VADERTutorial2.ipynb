{
 "cells": [
  {
   "cell_type": "markdown",
   "id": "e7b42b6c",
   "metadata": {},
   "source": [
    "# Using VADER in a Multinomial Logistic Regression Model"
   ]
  },
  {
   "cell_type": "markdown",
   "id": "11fb6f36",
   "metadata": {},
   "source": [
    "### Getting Started"
   ]
  },
  {
   "cell_type": "markdown",
   "id": "690e38a3",
   "metadata": {},
   "source": [
    "To use these libraries you need to make sure you have the appropriate packages\n",
    "<br>\n",
    "installed on your machine. The libraries used in this guide are pandas, vaderSentiment, mlxtend, langdetect, sklearn, and nltk \n",
    "<br>\n",
    "Run the following commands on the command line to install these libraries:\n",
    "- pip install pandas\n",
    "- pip install vaderSentiment\n",
    "- pip install mlxtend\n",
    "- pip install langdetect\n",
    "- pip install sklearn\n",
    "- pip install nltk"
   ]
  },
  {
   "cell_type": "markdown",
   "id": "ad0b3b78",
   "metadata": {},
   "source": [
    "You may also need to run these lines of code in your python interpreter to download NLTK's tokenizer and set of stopwords:"
   ]
  },
  {
   "cell_type": "code",
   "execution_count": 1,
   "id": "374e34e1",
   "metadata": {
    "scrolled": false
   },
   "outputs": [
    {
     "name": "stderr",
     "output_type": "stream",
     "text": [
      "[nltk_data] Downloading package punkt to\n",
      "[nltk_data]     C:\\Users\\ikmok\\AppData\\Roaming\\nltk_data...\n",
      "[nltk_data]   Package punkt is already up-to-date!\n",
      "[nltk_data] Downloading package stopwords to\n",
      "[nltk_data]     C:\\Users\\ikmok\\AppData\\Roaming\\nltk_data...\n",
      "[nltk_data]   Package stopwords is already up-to-date!\n"
     ]
    },
    {
     "data": {
      "text/plain": [
       "True"
      ]
     },
     "execution_count": 1,
     "metadata": {},
     "output_type": "execute_result"
    }
   ],
   "source": [
    "import nltk\n",
    "\n",
    "nltk.download(\"punkt\")\n",
    "nltk.download(\"stopwords\")"
   ]
  },
  {
   "cell_type": "markdown",
   "id": "cf5984f1",
   "metadata": {},
   "source": [
    "### Download Data"
   ]
  },
  {
   "cell_type": "markdown",
   "id": "b90d0224",
   "metadata": {},
   "source": [
    "<p>You can download the youtube dataset from kaggle at: https://www.kaggle.com/general/181714</p>\n",
    "\n",
    "<p>Place the csv file in the same directory as your python script.<br>\n",
    "Now we are ready to write code.</p>"
   ]
  },
  {
   "cell_type": "markdown",
   "id": "abeed647",
   "metadata": {},
   "source": [
    "### Import Libraries\n",
    "<br>\n",
    "First we need to import the following libraries:"
   ]
  },
  {
   "cell_type": "code",
   "execution_count": 2,
   "id": "a1d498ef",
   "metadata": {},
   "outputs": [],
   "source": [
    "import pandas as pd\n",
    "from vaderSentiment.vaderSentiment import SentimentIntensityAnalyzer\n",
    "from nltk.corpus import stopwords \n",
    "from nltk.corpus import wordnet\n",
    "from nltk import word_tokenize\n",
    "from nltk.stem import WordNetLemmatizer\n",
    "from nltk import pos_tag\n",
    "import string\n",
    "from matplotlib import pyplot as plt\n",
    "from sklearn.model_selection import train_test_split\n",
    "from sklearn.feature_extraction.text import CountVectorizer\n",
    "from sklearn.linear_model import LogisticRegression\n",
    "from sklearn import metrics\n",
    "from langdetect import detect \n",
    "from mlxtend.plotting import plot_confusion_matrix"
   ]
  },
  {
   "cell_type": "markdown",
   "id": "3370c400",
   "metadata": {},
   "source": [
    "## FUNCTION DEFINITIONS:\n",
    "\n",
    "Before we proceed with the main function, it's crucial to understand the functions used in this notebook. Understanding these functions will enable you to better understand the program as a whole. So first, take a moment to familiarize yourself with the function definitions."
   ]
  },
  {
   "cell_type": "markdown",
   "id": "5329b0ac",
   "metadata": {},
   "source": [
    "### detect_english()\n",
    "\n",
    "This function takes a string as input. (In this case a YouTube Comment)\n",
    " \n",
    "It returns the string \"en\" if the detected language is english<br>\n",
    "It returns the string \"not_en\" if the detected language is some non-english language<br>\n",
    "<br>\n",
    "If an exception is raised, it is likely because no language could be detected.<br>\n",
    "This usually occurs with comments that are garbage or containing only punctuations or symbols so this is also used to filter out noisy comments. This is why we return \"not_en\" when an exception occurs.<br>\n",
    "\n",
    "Note: This function may sometimes misclassify the language so there may still be non-english or noisy comments even after\n",
    "this is called. However the number of noisy or non-english comments should significantly decrease.\n",
    "\n",
    "The function is defined below:"
   ]
  },
  {
   "cell_type": "code",
   "execution_count": 3,
   "id": "b406499a",
   "metadata": {},
   "outputs": [],
   "source": [
    "def detect_english(str):\n",
    "    try:\n",
    "        if detect(str) == \"en\":\n",
    "            return \"en\"\n",
    "        else:\n",
    "            return \"not_en\"\n",
    "    except:\n",
    "        return \"not_en\""
   ]
  },
  {
   "cell_type": "markdown",
   "id": "3eb536f7",
   "metadata": {},
   "source": [
    "### get_wordnet_pos()\n",
    "\n",
    "This function takes a string as input. (In this case a treebank part of speech (POS) tag)\n",
    "\n",
    "This function is used to convert treebank pos tags into the wordnet POS tag format. since the lemmatizer used in \n",
    "the 'remove_stopwords()' function requires the wordnet format to work, this function is crucial.\n",
    "The converted tag is returned.\n",
    "\n",
    "The function is defined below:"
   ]
  },
  {
   "cell_type": "code",
   "execution_count": 4,
   "id": "0b35e6d4",
   "metadata": {},
   "outputs": [],
   "source": [
    "def get_wordnet_pos(treebank_tag):\n",
    "\n",
    "    if treebank_tag.startswith('J'):\n",
    "        return wordnet.ADJ\n",
    "    elif treebank_tag.startswith('V'):\n",
    "        return wordnet.VERB\n",
    "    elif treebank_tag.startswith('N'):\n",
    "        return wordnet.NOUN\n",
    "    elif treebank_tag.startswith('R'):\n",
    "        return wordnet.ADV\n",
    "    else:\n",
    "        return wordnet.NOUN"
   ]
  },
  {
   "cell_type": "markdown",
   "id": "88540cab",
   "metadata": {},
   "source": [
    "### remove_stopwords()\n",
    "\n",
    "This function takes a string as input. (In this case a YouTube Comment)\n",
    "\n",
    "This function does more than just removing stopwords despite the name of the function.\n",
    "\n",
    "This function also does some of the most important preprocessing steps for NLP such as stopword removal, lemmatization, and removing punctuation. This will allow our model to reduce variations of similar words and gain better insight during training.\n",
    "\n",
    "Returns a string that has been lemmatized, removed of stopwords, and removed of certain punctuations.\n",
    "\n",
    "The function is defined below:"
   ]
  },
  {
   "cell_type": "code",
   "execution_count": 5,
   "id": "f1ff15d8",
   "metadata": {},
   "outputs": [],
   "source": [
    "def remove_stopwords(line):\n",
    "    stop_words = set(stopwords.words('english'))\n",
    "    word_tokens = word_tokenize(line)\n",
    "    lemmatizer = WordNetLemmatizer()\n",
    "    \n",
    "    # Remove stop words to keep only the words that add meaning to the sentence\n",
    "    # Lemmetize each token that isn't a stopword to make more useful observations\n",
    "    filtered_sentence = [lemmatizer.lemmatize(w, get_wordnet_pos(tag)) for w, tag in pos_tag(word_tokens) if not w in stop_words]\n",
    "    \n",
    "    # get rid of articles and left over contraction tokens\n",
    "    for w in filtered_sentence:\n",
    "        if len(w) < 2:\n",
    "            filtered_sentence.remove(w)\n",
    "\n",
    "    # Join remaining tokens together\n",
    "    str = \" \".join(filtered_sentence)\n",
    "\n",
    "    # Create a string of punctuations we would like to remove\n",
    "    puncts = string.punctuation\n",
    "\n",
    "    # Exclude '?', '!', and '.' from removal since they add some context for sentiment of sentences.\n",
    "    my_puncts = puncts.replace(\"?\",\"\").replace(\"!\",\"\").replace(\".\",\"\")\n",
    "\n",
    "    # delete every punctuation except '?', '!', and '.'\n",
    "    for punct in my_puncts:\n",
    "        str = str.replace(punct, \"\")\n",
    "\n",
    "    return str"
   ]
  },
  {
   "cell_type": "markdown",
   "id": "2d7d3275",
   "metadata": {},
   "source": [
    "### preprocess()\n",
    "This function takes a pandas dataframe as input. (In this case the dataframe containing the YouTube Comments)\n",
    " \n",
    "This function applies all the preprocessing steps defined above and more to each row of the dataframe.\n",
    " \n",
    "Here is the complete list of steps for preprocessing:\n",
    " \n",
    "1.) Filter out non-english and noisy/garbage comments\n",
    "\n",
    "2.) Apply VADER's polarity_scores() function to each comment to create a new column called \"Polarity\". So that we can get a general idea of the sentiment of each comment.\n",
    "\n",
    "3.) Apply remove_stopwords() function defined above to create a new column called \"stopwords_removed\".\n",
    "\n",
    "4.) Shuffle the dataset randomly to prepare the dataset for the testing and training split.\n",
    "\n",
    "Returns the resulting dataframe after performing all operations."
   ]
  },
  {
   "cell_type": "code",
   "execution_count": 6,
   "id": "816d4791",
   "metadata": {},
   "outputs": [],
   "source": [
    "def preprocess(df):\n",
    "    # Use detect_english function to tag english comments and non-english comments\n",
    "    # Then filter them out.\n",
    "    df[\"detected_english\"] = df[\"Comment\"].map(detect_english)\n",
    "    df = df[df[\"detected_english\"] == \"en\"]\n",
    "\n",
    "    # Evaluate sentiment of each comment\n",
    "    \n",
    "    # Create VADER SentimentIntensityAnalyzer object\n",
    "    sia = SentimentIntensityAnalyzer()\n",
    "\n",
    "    # Apply VADER's polarity_scores() function to each element\n",
    "    df[\"Polarity\"] = df[\"Comment\"].map(lambda x: sia.polarity_scores(x)['compound'])\n",
    "\n",
    "    # convert all letters to lowercase\n",
    "    df['Comment'] = df['Comment'].map(lambda x: x.lower())\n",
    "\n",
    "    # get rid of trailing whitespace\n",
    "    df['Comment'] = df['Comment'].map(lambda x: x.strip())\n",
    "\n",
    "    # Apply the remove_stopwords function to remove stopwords and lemmatize each comment\n",
    "    df[\"stopwords_removed\"] = df['Comment'].map(remove_stopwords)\n",
    "\n",
    "    # Shuffle the rows\n",
    "    df.sample(frac=1).reset_index(drop=True)\n",
    "\n",
    "    return df"
   ]
  },
  {
   "cell_type": "markdown",
   "id": "da5c077e",
   "metadata": {},
   "source": [
    "## MAIN:"
   ]
  },
  {
   "cell_type": "markdown",
   "id": "d4669e0d",
   "metadata": {},
   "source": [
    "First, we read the comments from a dataset file called \"youtube_dataset.csv\" using pandas and select only the \"Comment\" column for analysis. Finally, we call the preprocess function on the DataFrame df to perform various preprocessing tasks listed above such as language detection, sentiment evaluation, lowercase conversion, removal of stopwords, and shuffling of comments."
   ]
  },
  {
   "cell_type": "code",
   "execution_count": 7,
   "id": "2f978d14",
   "metadata": {},
   "outputs": [
    {
     "name": "stdout",
     "output_type": "stream",
     "text": [
      "                                 stopwords_removed  Polarity\n",
      "0           people like comment officially 7b view    0.4215\n",
      "1                            wait s 7b view always    0.0000\n",
      "2  teacher population earth  around one despacito     0.0000\n",
      "3            let s honest nt recommendation search    0.5106\n",
      "4       type people 10 enjoying song 90 check view    0.5267\n"
     ]
    }
   ],
   "source": [
    "# Ignore chained aasignment warning (optional)\n",
    "pd.options.mode.chained_assignment = None\n",
    "\n",
    "# Read the comments from the dataset.\n",
    "df = pd.read_csv(\"youtube_dataset.csv\", usecols=[\"Comment\"])\n",
    "\n",
    "# Preprocess the data\n",
    "df = preprocess(df)\n",
    "\n",
    "print(df[[\"stopwords_removed\", \"Polarity\"]].head())"
   ]
  },
  {
   "cell_type": "markdown",
   "id": "09e7f8f0",
   "metadata": {},
   "source": [
    "Then we assign labels to the preprocessed comments based on their compound polarity scores in the \"Polarity\" Column. We create a new column in the DataFrame called 'Categorization' and initialize all values to 0, representing neutral sentiment. \n",
    "\n",
    "Then using the loc function, we assign a value of 1 to the 'Categorization' column for comments with a polarity score greater than 0.05, indicating a positive sentiment. Similarly, comments with a polarity score less than -0.05 are assigned a value of -1, representing a negative sentiment."
   ]
  },
  {
   "cell_type": "code",
   "execution_count": 8,
   "id": "d3f965e6",
   "metadata": {},
   "outputs": [],
   "source": [
    "# Define Categories based on compound polarity score\n",
    "# -1: Negative\n",
    "# 0: Neutral\n",
    "# 1: Positive\n",
    "df['Categorization'] = 0\n",
    "df.loc[df['Polarity'] > 0.05, 'Categorization'] = 1\n",
    "df.loc[df['Polarity'] < -0.05, 'Categorization'] = -1"
   ]
  },
  {
   "cell_type": "markdown",
   "id": "de4c26c5",
   "metadata": {},
   "source": [
    "After categorizing the comments based on their compound polarity scores, we can visualize the distribution of sentiments using a bar plot. To do this, we calculate the counts of each sentiment category using the value_counts() function on the 'Categorization' column of the DataFrame df. The resulting counts are stored in 'counts'. Then we define labels for each class: negative, neutral, and positive. \n",
    "\n",
    "Finally, we can create and display the bar plot. The resulting bar plot provides a visual representation of the sentiment distribution in the dataset, allowing us to understand the prevalence of negative, neutral, and positive sentiments among the comments in the dataset."
   ]
  },
  {
   "cell_type": "code",
   "execution_count": 9,
   "id": "e3d0766a",
   "metadata": {},
   "outputs": [
    {
     "data": {
      "image/png": "[encoded data removed]",
      "text/plain": [
       "<Figure size 640x480 with 1 Axes>"
      ]
     },
     "metadata": {},
     "output_type": "display_data"
    }
   ],
   "source": [
    "# Plot the distribution of sentiments that have been determined by VADER:\n",
    "counts = df['Categorization'].value_counts()\n",
    "\n",
    "# Create a list of labels and counts for each respective class (negative, neutral, and positive)\n",
    "frequencies = [counts[-1], counts[0], counts[1]]\n",
    "\n",
    "labels = [\"negative\", \"neutral\", \"positive\"]\n",
    "\n",
    "# Display Sentiment Distribution in the dataset\n",
    "plt.bar(range(len(labels)), frequencies, 1, edgecolor=(0,0,0))\n",
    "plt.title(\"Distribution of Sentiment in the Dataset\")     # add a title\n",
    "plt.ylabel(\"frequencies\")   # label the y-axis\n",
    "\n",
    "# label x-axis with label names at bar centers\n",
    "plt.xticks(range(len(labels)), labels)\n",
    "\n",
    "for index, value in enumerate(frequencies):\n",
    "    plt.text(index, value, str(value))\n",
    "plt.show()"
   ]
  },
  {
   "cell_type": "markdown",
   "id": "29ebd68b",
   "metadata": {},
   "source": [
    "The bar plot shows that VADER determined that most of these comments are positive and neutral and that only a small portion are negative. How do you think this distribution will effect the model's performance?\n",
    "\n",
    "The next step is splitting the dataset into training and testing sets and preparing the data to train the model. The train_test_split() function from scikit-learn is used for this purpose. It takes the 'stopwords_removed' column as the feature data (x) and the 'Categorization' column as the target variable (y). The dataset is split with a test size of 0.2, meaning 20% of the data will be used for testing, while the remaining 80% will be used for training. The random_state parameter is set to 15 to ensure reproducibility.\n",
    "\n",
    "Next, the data is vectorized using the CountVectorizer() class from scikit-learn. This step converts the text data into numerical representations that machine learning models can process. The fit_transform() method is applied to the training data (X_train), and the transform() method is applied to the testing data (X_test) using the instantiated vect object.\n",
    "\n",
    "Then we create a Multinomial Logistic Regression model to handle multiple classes. Depending on your data, you may want to change the parameters for the model. The model is trained on the vectorized training data (tf_train) and the corresponding target variable (y_train) using the fit() method."
   ]
  },
  {
   "cell_type": "code",
   "execution_count": 10,
   "id": "cfea7c24",
   "metadata": {},
   "outputs": [
    {
     "data": {
      "text/plain": [
       "LogisticRegression(max_iter=250, multi_class='multinomial')"
      ]
     },
     "execution_count": 10,
     "metadata": {},
     "output_type": "execute_result"
    }
   ],
   "source": [
    "# Split the dataset into a testing set and a training set\n",
    "X_train, X_test, y_train, y_test = train_test_split(df['stopwords_removed'], df['Categorization'], test_size = 0.2, random_state = 15)\n",
    "\n",
    "# Vectorize the Data\n",
    "vect = CountVectorizer()\n",
    "tf_train = vect.fit_transform(X_train)\n",
    "tf_test = vect.transform(X_test)\n",
    "\n",
    "# Create Multinomial Logistic Regression Model (Since dealing with multiple classes)\n",
    "lr = LogisticRegression(multi_class='multinomial', solver='lbfgs', max_iter=250)\n",
    "lr.fit(tf_train,y_train)"
   ]
  },
  {
   "cell_type": "markdown",
   "id": "730c9e2c",
   "metadata": {},
   "source": [
    "Next we will look at the accuracy of the model. Accuracy provides an overall measure of how well the model performs in predicting sentiment. It allows us to assess the model's effectiveness in correctly classifying comments into the appropriate sentiment categories.\n",
    "\n",
    "To calculate the accuracy scores, we can use the score() method of the Logistic Regression model lr."
   ]
  },
  {
   "cell_type": "code",
   "execution_count": 11,
   "id": "decab8e5",
   "metadata": {},
   "outputs": [
    {
     "name": "stdout",
     "output_type": "stream",
     "text": [
      "Checking Accuracy of score on both datasets\n",
      "Accuracy score on training dataset: 0.94\n",
      "Accuracy score on test dataset: 0.82\n"
     ]
    }
   ],
   "source": [
    "# Print accuracy of self and independent tests.\n",
    "print(\"Checking Accuracy of score on both datasets\")\n",
    "print(\"Accuracy score on training dataset:\",round(lr.score(tf_train,y_train), 2))\n",
    "print(\"Accuracy score on test dataset:\", round(lr.score(tf_test,y_test), 2))\n"
   ]
  },
  {
   "cell_type": "markdown",
   "id": "a46bcebb",
   "metadata": {},
   "source": [
    "While accuracy is a valuable metric for evaluating sentiment analysis models it may not explain everything about the model's performance. Using other metrics and figures such as the confusion matrix and classification report can provide additional insights into the model's performance.\n",
    "\n",
    "A <b>classification report</b> provides a comprehensive evaluation of a classification model's performance by presenting key metrics such as precision, recall, F1-score, and support for each class. It summarizes the model's ability to accurately classify instances, identify true positives and negatives, and detect false positives and negatives. \n",
    "\n",
    "A <b>confusion matrix</b> is a tabular representation that summarizes the performance of a classification model by showing the count of true positive, true negative, false positive, and false negative predictions. It provides a clear overview of how well the model's predictions align with the actual class labels.\n",
    "\n",
    "We can use the metrics module to do display both of these."
   ]
  },
  {
   "cell_type": "code",
   "execution_count": 12,
   "id": "fd6275e0",
   "metadata": {},
   "outputs": [
    {
     "data": {
      "image/png": "[encoded data removed]",
      "text/plain": [
       "<Figure size 640x480 with 1 Axes>"
      ]
     },
     "metadata": {},
     "output_type": "display_data"
    },
    {
     "name": "stdout",
     "output_type": "stream",
     "text": [
      "Showing Classification report:\n",
      "              precision    recall  f1-score   support\n",
      "\n",
      "          -1       0.73      0.58      0.65       450\n",
      "           0       0.75      0.89      0.81       817\n",
      "           1       0.89      0.85      0.87      1401\n",
      "\n",
      "    accuracy                           0.82      2668\n",
      "   macro avg       0.79      0.77      0.78      2668\n",
      "weighted avg       0.82      0.82      0.81      2668\n",
      "\n",
      "Showing F1 Score:\n",
      "0.78\n",
      "\n"
     ]
    }
   ],
   "source": [
    "# Make predictions on the test dataset\n",
    "expected = y_test\n",
    "predicted = lr.predict(tf_test)\n",
    "\n",
    "#Plot and Display confusion matrix for the test dataset\n",
    "cf = metrics.confusion_matrix(expected,predicted,labels = [1, 0, -1])\n",
    "fig, ax = plot_confusion_matrix(conf_mat = cf, class_names = [1, 0, -1])\n",
    "plt.show()\n",
    "\n",
    "print(\"Showing Classification report:\")\n",
    "# Print classification report\n",
    "print(metrics.classification_report(expected, predicted))\n",
    "\n",
    "# Find F1 Score\n",
    "print(\"Showing F1 Score:\")\n",
    "print(round(metrics.f1_score(expected, predicted, average='macro'), 2))\n",
    "print()"
   ]
  },
  {
   "cell_type": "markdown",
   "id": "81f51bee",
   "metadata": {},
   "source": [
    "For sentiment analysis, you typically want each of your metrics to be at least 80%. The reason being that humans agree on sentiment of text around 80% of the time.\n",
    "\n",
    "At this point, if you would like to further test the model on new data, you can run this block of code to test your own comments:"
   ]
  },
  {
   "cell_type": "code",
   "execution_count": null,
   "id": "8afff158",
   "metadata": {},
   "outputs": [],
   "source": [
    "# To test your own comments on the model\n",
    "while True:\n",
    "    entry = input(\"Enter a YouTube comment for sentiment classification: \")\n",
    "\n",
    "    #Lowercase the input and get rid of whitespace\n",
    "    entry = entry.lower().strip()\n",
    "    entry = remove_stopwords(entry)\n",
    "    tf_test = vect.transform([entry])\n",
    "    predicted = lr.predict(tf_test)\n",
    "\n",
    "    if(predicted[0] == 1):\n",
    "        print(\"Positive\")\n",
    "\n",
    "    elif(predicted[0] == 0):\n",
    "        print(\"Neutral\")\n",
    "\n",
    "    elif(predicted[0] == -1):\n",
    "        print(\"Negative\")"
   ]
  },
  {
   "cell_type": "markdown",
   "id": "2710000d",
   "metadata": {},
   "source": [
    "<div>\n",
    "<p>In this guide, we have explored the use of VADER in conjunction with a Multinomial Logistic Regression model for sentiment classification in machine learning. We have discussed how to preprocess textual data using natural language processing techniques such as lemmatization and stop word removal. We have built a model using labels assigned by VADER as a feature for machine learning. We have also discussed how to evaluate the model’s performance to see how effective it is for sentiment classification.</p>\n",
    "\n",
    "<p>Now let’s discuss the strengths and limitations of using this approach. First we will begin with the strengths:</p>\n",
    "<ul>\n",
    "<li><p>VADER allows for quick evaluation and scoring of the sentiment in a piece of text. By using VADER to label the dataset according to the sentiment score, we can overcome the challenge of manually labeling a large dataset. This saves time and effort in the labeling process.</p></li>\n",
    "\n",
    "<li><p>Multinomial Logistic Regression is well-suited for multi-class classification problems. It models the probabilities of multiple classes and finds the best decision boundaries to separate the data into three or more classes. This makes it effective for sentiment classification tasks where we want to classify comments into positive, negative, and neutral categories.</p></li>\n",
    "</ul>\n",
    "However, there are also limitations to consider:\n",
    "<ul>\n",
    "<li><p>This model can sometimes fail to recognize nuances and intricacies of natural language such as sarcasm and irony since it is rather basic and simple. In its current state it should only perform well for basic sentiment analysis tasks.</p></li>\n",
    "    \n",
    "<li><p>This model relies heavily on VADER for labeling the dataset. VADER is a rule-based sentiment analysis tool that has been trained on specific data. While it performs well in many cases, it may not capture all nuances and subtleties of sentiment. It is important to be aware of its limitations and consider alternative sentiment analysis approaches if higher accuracy is required.</p></li>\n",
    "\n",
    "<li><p>The approach described in this guide is primarily designed for English sentiment analysis. It relies on the assumption that the input comments are in English and may not perform well on comments in other languages. Adapting this method to different languages would require modifications and adjustments.</p></li>\n",
    "</ul>\n",
    "\n",
    "<p>It is important to note that this model is in no way perfect or complete. However, it provides a good starting point for creating a general-purpose sentiment analysis application. To enhance the model's performance for domain-specific applications, it is recommended to train the model using domain-specific features in addition to VADER labels. This augmentation would allow the model to better capture nuances and intricacies specific to the target domain, resulting in improved sentiment analysis outcomes.</p>\n",
    "\n",
    "</div>\n",
    "<br>"
   ]
  }
 ],
 "metadata": {
  "celltoolbar": "Raw Cell Format",
  "kernelspec": {
   "display_name": "Python 3 (ipykernel)",
   "language": "python",
   "name": "python3"
  },
  "language_info": {
   "codemirror_mode": {
    "name": "ipython",
    "version": 3
   },
   "file_extension": ".py",
   "mimetype": "text/x-python",
   "name": "python",
   "nbconvert_exporter": "python",
   "pygments_lexer": "ipython3",
   "version": "3.9.13"
  },
  "vscode": {
   "interpreter": {
    "hash": "c9e66bd041b2a2e5f754f3a39be4b2978d0ee77d07832e53768b6ed735d5e88b"
   }
  }
 },
 "nbformat": 4,
 "nbformat_minor": 5
}
