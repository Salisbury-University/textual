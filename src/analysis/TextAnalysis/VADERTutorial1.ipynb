{
 "cells": [
  {
   "cell_type": "markdown",
   "id": "e7b42b6c",
   "metadata": {},
   "source": [
    "# Introduction to VADER Sentiment Analyzer in Python"
   ]
  },
  {
   "cell_type": "markdown",
   "id": "11fb6f36",
   "metadata": {},
   "source": [
    "### Getting Started"
   ]
  },
  {
   "cell_type": "markdown",
   "id": "690e38a3",
   "metadata": {},
   "source": [
    "To use these libraries you need to make sure you have the appropriate packages\n",
    "<br>\n",
    "installed on your machine. The libraries used in this guide are pandas and vaderSentiment\n",
    "<br>\n",
    "Run the following commands on the command line to install these libraries:\n",
    "- pip install pandas<br>\n",
    "- pip install vaderSentiment"
   ]
  },
  {
   "cell_type": "markdown",
   "id": "cf5984f1",
   "metadata": {},
   "source": [
    "### Download Dataset"
   ]
  },
  {
   "cell_type": "markdown",
   "id": "b90d0224",
   "metadata": {},
   "source": [
    "<p>You can download the youtube dataset from kaggle at: https://www.kaggle.com/general/181714</p>\n",
    "\n",
    "<p>Place the .csv file in the same directory as your python script.<br>\n",
    "Now we are ready to write code.</p>"
   ]
  },
  {
   "cell_type": "markdown",
   "id": "abeed647",
   "metadata": {},
   "source": [
    "### Import Libraries\n",
    "<br>\n",
    "First we need to import the following libraries:"
   ]
  },
  {
   "cell_type": "code",
   "execution_count": 1,
   "id": "fe628a97",
   "metadata": {},
   "outputs": [],
   "source": [
    "import pandas as pd\n",
    "from vaderSentiment.vaderSentiment import SentimentIntensityAnalyzer"
   ]
  },
  {
   "cell_type": "markdown",
   "id": "c0350e4e",
   "metadata": {},
   "source": [
    "### How VADER Works"
   ]
  },
  {
   "cell_type": "markdown",
   "id": "386da1df",
   "metadata": {},
   "source": [
    "<div style=\"width:60%;\">\n",
    "<p>To use VADER, you must first create a SentimentIntensityAnalyzer object and then use the polarity_scores() function to evaluate the sentiment of the text.</p>\n",
    "</div>"
   ]
  },
  {
   "cell_type": "code",
   "execution_count": 3,
   "id": "7d1db035",
   "metadata": {},
   "outputs": [
    {
     "name": "stdout",
     "output_type": "stream",
     "text": [
      "{'neg': 0.0, 'neu': 0.435, 'pos': 0.565, 'compound': 0.8313}\n"
     ]
    }
   ],
   "source": [
    "import pandas as pd\n",
    "from vaderSentiment.vaderSentiment import SentimentIntensityAnalyzer\n",
    "\n",
    "# Create Sentiment Intensity Analyzer Object\n",
    "sia = SentimentIntensityAnalyzer()\n",
    "\n",
    "# get polarity scores for a input string\n",
    "sentiment_dict = sia.polarity_scores(\"Wow the food at this restaurant looks delicious!\")\n",
    "print(sentiment_dict)"
   ]
  },
  {
   "cell_type": "markdown",
   "id": "08705516",
   "metadata": {},
   "source": [
    "<div style=\"width:85%;\">\n",
    "<p>The polarity_scores() function is a member function of SentimentIntensityAnalyzer that takes a given string as input and returns\n",
    "a dictionary containing 4 scores:\n",
    "</p>\n",
    "</div>\n",
    "<div>\n",
    "<ul>\n",
    "<li>negative</li>\n",
    "<li>neutral</li>\n",
    "<li>positive</li>\n",
    "<li>compound</li>\n",
    "</ul>\n",
    "</div>\n",
    "<div style=\"width:85%;\" >\n",
    "<p style=\"\">\n",
    "The function uses the given string to calculate negative, neutral, & positive polarity scores. Then, using these scores, calculates a compound score. The compound score will always be between -1 and 1. Compound scores closer to +1 indicate a positive sentiment, and compound scores closer to -1 indicate a more negative sentiment. These scores can be used to classify the sentiment of the sentence. In the example above, we can see the compound score is 0.8436 indicating a very positive score. Feel free to test this function with different strings to see what kinds of values it assigns to different sentences.\n",
    "</p>\n",
    "    \n",
    "</div>"
   ]
  },
  {
   "cell_type": "markdown",
   "id": "2350d61a",
   "metadata": {},
   "source": [
    "### Get the Youtube Comments from the dataset"
   ]
  },
  {
   "cell_type": "markdown",
   "id": "606a2944",
   "metadata": {},
   "source": [
    "<div style=\"width:85%\">\n",
    "<p>Now that we have the modules we need and know how to use the SentimentIntensityAnalyzer object, we're ready to use VADER on comments from a dataset. We can use the pandas module to read comments from a csv file.</p>\n",
    "</div>"
   ]
  },
  {
   "cell_type": "code",
   "execution_count": 4,
   "id": "00eee901",
   "metadata": {
    "scrolled": true
   },
   "outputs": [
    {
     "name": "stdout",
     "output_type": "stream",
     "text": [
      "comment 1 :\n",
      "The people who liked this comment is officially before 7B views\n",
      "\n",
      "comment 2 :\n",
      "- Wait, it's 7B views\n",
      "- Always has been\n",
      "\n",
      "comment 3 :\n",
      "*Teacher: What is the population of the Earth?*\n",
      "\n",
      "*Me: Around one Despacito*\n",
      "\n"
     ]
    }
   ],
   "source": [
    "import pandas as pd\n",
    "from vaderSentiment.vaderSentiment import SentimentIntensityAnalyzer\n",
    "\n",
    "# get a dataframe containing the comments using pandas\n",
    "df = pd.read_csv(\"youtube_dataset.csv\")\n",
    "comments = df['Comment'][:3]\n",
    "\n",
    "# print each comment\n",
    "for i, comment in enumerate(comments, 1):\n",
    "    print(\"comment\", i, \":\")\n",
    "    print(comment)\n",
    "    print()"
   ]
  },
  {
   "cell_type": "markdown",
   "id": "16574c6a",
   "metadata": {},
   "source": [
    "<div style=\"width:84%;\">\n",
    "<p>Here we used pandas to read the first 3 comments from the dataset and store them into a list. Then we print each comment to the screen.</p>\n",
    "</div>"
   ]
  },
  {
   "cell_type": "markdown",
   "id": "c9ce518a",
   "metadata": {},
   "source": [
    "### Using VADER to Analyze Comments in the Dataset"
   ]
  },
  {
   "cell_type": "markdown",
   "id": "7cc436cd",
   "metadata": {},
   "source": [
    "<div style=\"\">\n",
    "<p>Now lets try using the SentimentIntensityAnalyzer on comments from our dataset to get their sentiment</p>\n",
    "</div>"
   ]
  },
  {
   "cell_type": "code",
   "execution_count": 5,
   "id": "cca7548e",
   "metadata": {},
   "outputs": [
    {
     "name": "stdout",
     "output_type": "stream",
     "text": [
      "comment 1 :\n",
      "The people who liked this comment is officially before 7B views\n",
      "sentiment_dict {'neg': 0.0, 'neu': 0.781, 'pos': 0.219, 'compound': 0.4215}\n",
      "\n",
      "comment 2 :\n",
      "- Wait, it's 7B views\n",
      "- Always has been\n",
      "sentiment_dict {'neg': 0.0, 'neu': 1.0, 'pos': 0.0, 'compound': 0.0}\n",
      "\n",
      "comment 3 :\n",
      "*Teacher: What is the population of the Earth?*\n",
      "\n",
      "*Me: Around one Despacito*\n",
      "sentiment_dict {'neg': 0.0, 'neu': 1.0, 'pos': 0.0, 'compound': 0.0}\n",
      "\n"
     ]
    }
   ],
   "source": [
    "import pandas as pd\n",
    "from vaderSentiment.vaderSentiment import SentimentIntensityAnalyzer\n",
    "\n",
    "df = pd.read_csv(\"youtube_dataset.csv\")\n",
    "comments = df['Comment'][:3]\n",
    "\n",
    "# Create Sentiment Intensity Analyzer object from vaderSentiment\n",
    "sia = SentimentIntensityAnalyzer()\n",
    "\n",
    "\n",
    "for i, comment in enumerate(comments, 1):\n",
    "    \n",
    "    sentiment_dict = sia.polarity_scores(comment)\n",
    "    \n",
    "    print(\"Comment \" + str(i) + \":\")\n",
    "    print(comment)\n",
    "    print(\"sentiment_dict\", sentiment_dict,)\n",
    "    print()"
   ]
  },
  {
   "cell_type": "markdown",
   "id": "8707ba77",
   "metadata": {},
   "source": [
    "<br>"
   ]
  },
  {
   "cell_type": "markdown",
   "id": "91b9a56f",
   "metadata": {},
   "source": [
    "### Classifying Sentiment of Youtube Comments"
   ]
  },
  {
   "cell_type": "markdown",
   "id": "07ecf354",
   "metadata": {},
   "source": [
    "<div style=\"\">\n",
    "<p>Now that we have the compound score, we can choose a range for what we classify as positive, negative,\n",
    "and neutral. For this example, we will classify comments using these rules: <br><br>\n",
    "negative : compound_score <= -0.5<br>\n",
    "neutral  : -0.5 < compound_score < 0.5 <br>\n",
    "positive : compound_score >= 0.5 <br><br>\n",
    "</p>\n",
    "</div>"
   ]
  },
  {
   "cell_type": "code",
   "execution_count": 9,
   "id": "97bbe9f7",
   "metadata": {},
   "outputs": [
    {
     "name": "stdout",
     "output_type": "stream",
     "text": [
      "Comment 1:\n",
      "The people who liked this comment is officially before 7B views\n",
      "Overall sentiment dictionary is : {'neg': 0.0, 'neu': 0.781, 'pos': 0.219, 'compound': 0.4215}\n",
      "Sentence Overall Rated As \n",
      "Positive\n",
      "\n",
      "Comment 2:\n",
      "- Wait, it's 7B views\n",
      "- Always has been\n",
      "Overall sentiment dictionary is : {'neg': 0.0, 'neu': 1.0, 'pos': 0.0, 'compound': 0.0}\n",
      "Sentence Overall Rated As \n",
      "Neutral\n",
      "\n",
      "Comment 3:\n",
      "*Teacher: What is the population of the Earth?*\n",
      "\n",
      "*Me: Around one Despacito*\n",
      "Overall sentiment dictionary is : {'neg': 0.0, 'neu': 1.0, 'pos': 0.0, 'compound': 0.0}\n",
      "Sentence Overall Rated As \n",
      "Neutral\n",
      "\n",
      "positive comments =  1  negative comments =  0  neutral comments =  2\n"
     ]
    }
   ],
   "source": [
    "import pandas as pd\n",
    "from vaderSentiment.vaderSentiment import SentimentIntensityAnalyzer\n",
    "\n",
    "#Counters to keep track of positive, negative, and neutral sentiments\n",
    "pos = 0\n",
    "neg = 0\n",
    "neutral = 0\n",
    "\n",
    "df = pd.read_csv(\"youtube_dataset.csv\")\n",
    "comments = df['Comment'][:3]\n",
    "\n",
    "sia = SentimentIntensityAnalyzer()\n",
    "\n",
    "#This Loop goes through the first 3 comments in the dataset and gives them sentiment ratings.\n",
    "for i, comment in enumerate(comments, 1):\n",
    "\n",
    "    # Display the comment     \n",
    "    print(\"Comment \" + str(i) + \":\")\n",
    "    print(comment) \n",
    "    \n",
    "    # polarity_scores is a method of SentimentIntensityAnalyzer\n",
    "    # and returns a dictionary containing pos, neg, neu, and compound scores.\n",
    "    sentiment_dict = sia.polarity_scores(comment)\n",
    "    \n",
    "    print(\"Overall sentiment dictionary is :\", sentiment_dict)\n",
    "    print(\"Sentence Overall Rated As \")\n",
    "    \n",
    "    # decide sentiment as positive, negative and neutral and count each sentence based on compound score.\n",
    "    if sentiment_dict['compound'] >= 0.05 :\n",
    "        print(\"Positive\")\n",
    "        pos += 1\n",
    "        \n",
    "    elif sentiment_dict['compound'] <= - 0.05 :\n",
    "        print(\"Negative\") \n",
    "        neg += 1\n",
    "        \n",
    "    else :\n",
    "        print(\"Neutral\")\n",
    "        neutral += 1\n",
    "    print()\n",
    "\n",
    "#display the number of sentences rated positive, negative, or neutral\n",
    "print(\"positive comments = \", pos, \" negative comments = \", neg, \" neutral comments = \" , neutral)"
   ]
  },
  {
   "cell_type": "markdown",
   "id": "345cfca8",
   "metadata": {},
   "source": [
    "<br>\n",
    "<div>\n",
    "<p>Now you should understand how VADER Sentiment Intensity Analyzer works. Remember that VADER is most accurate when analyzing social media posts.\n",
    "However, VADER struggles to give accurate sentiment ratings when given a long pieces of text and can struggle with subtle nuances of natural language such as sarcasm, certain negations, and irony.</p>\n",
    "\n",
    "</div>\n",
    "<br>"
   ]
  }
 ],
 "metadata": {
  "celltoolbar": "Raw Cell Format",
  "kernelspec": {
   "display_name": "Python 3 (ipykernel)",
   "language": "python",
   "name": "python3"
  },
  "language_info": {
   "codemirror_mode": {
    "name": "ipython",
    "version": 3
   },
   "file_extension": ".py",
   "mimetype": "text/x-python",
   "name": "python",
   "nbconvert_exporter": "python",
   "pygments_lexer": "ipython3",
   "version": "3.9.13"
  },
  "vscode": {
   "interpreter": {
    "hash": "c9e66bd041b2a2e5f754f3a39be4b2978d0ee77d07832e53768b6ed735d5e88b"
   }
  }
 },
 "nbformat": 4,
 "nbformat_minor": 5
}
